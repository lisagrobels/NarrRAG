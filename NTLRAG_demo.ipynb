{
  "nbformat": 4,
  "nbformat_minor": 0,
  "metadata": {
    "colab": {
      "provenance": [],
      "gpuType": "T4"
    },
    "kernelspec": {
      "name": "python3",
      "display_name": "Python 3"
    },
    "language_info": {
      "name": "python"
    },
    "accelerator": "GPU"
  },
  "cells": [
    {
      "cell_type": "markdown",
      "source": [
        "# **NTLRAG** - **N**arrative **T**opic **L**abels derived with **R**etrieval **A**ugmented **G**eneration\n",
        "\n",
        "An orchestrated RAG framework for narrative extraction from topic model output."
      ],
      "metadata": {
        "id": "JC1w7WTrodqm"
      }
    },
    {
      "cell_type": "markdown",
      "source": [
        "This implementation of NTLRAG uses:\n",
        "\n",
        "*   llama3.2 from Ollama for all LLM tasks\n",
        "*   ChromaDB and BM25 retrievers\n",
        "*   LangChain and LangGraph for orchestration\n",
        "*   Pydantic for data structures\n",
        "\n",
        "The goal of NTLRAG is to extract narratives from document clusters. It is independet of the model used to create those clusters. Also, alternative LLMs, retrievers and orchestration frameworks can be used.\n",
        "\n",
        "To reproduce results for the sample dataset with this implementation, run the code below sequentially without adjustment."
      ],
      "metadata": {
        "id": "25OGrQ6_o8p1"
      }
    },
    {
      "cell_type": "markdown",
      "source": [
        "### Setup and Dependencies"
      ],
      "metadata": {
        "id": "40fTbrLVhHEM"
      }
    },
    {
      "cell_type": "code",
      "source": [
        "# use setup file to install system packages, ollama installer (change if necessary) and python libraries\n",
        "!git clone https://github.com/lisagrobels/NTLRAG.git\n",
        "%cd NTLRAG\n",
        "!bash setup.sh"
      ],
      "metadata": {
        "collapsed": true,
        "id": "8jwGG7w6yAks"
      },
      "execution_count": null,
      "outputs": []
    },
    {
      "cell_type": "code",
      "source": [
        "# add system path\n",
        "import sys\n",
        "sys.path.append(\"/content/NTLRAG\")"
      ],
      "metadata": {
        "id": "s68vU4RKzsnD"
      },
      "execution_count": 2,
      "outputs": []
    },
    {
      "cell_type": "code",
      "source": [
        "# import libraries (most libraries are imported in the dedicated .py files in rag_pipeline folder)\n",
        "\n",
        "import pandas as pd\n",
        "import numpy as np\n",
        "import json\n",
        "import threading\n",
        "import subprocess\n",
        "import time\n",
        "from enum import Enum\n",
        "from pathlib import Path\n",
        "\n",
        "from IPython.display import Markdown\n",
        "\n",
        "from langchain_ollama import OllamaEmbeddings\n",
        "from langchain_community.vectorstores import Chroma\n",
        "from langchain_community.retrievers import BM25Retriever\n",
        "from langchain_community.document_loaders import JSONLoader\n",
        "from langchain.schema import Document"
      ],
      "metadata": {
        "id": "SnfzkORay9I0"
      },
      "execution_count": 3,
      "outputs": []
    },
    {
      "cell_type": "code",
      "source": [
        "# start ollama server\n",
        "def run_ollama_serve():\n",
        "  subprocess.Popen([\"ollama\",\"serve\"])\n",
        "thread = threading.Thread(target=run_ollama_serve)\n",
        "\n",
        "thread.start()\n",
        "time.sleep(5)\n",
        "!ollama pull llama3.2"
      ],
      "metadata": {
        "id": "7DrZ9mDzI7uS",
        "colab": {
          "base_uri": "https://localhost:8080/"
        },
        "outputId": "27625300-8e71-4763-eed2-6894980283e5"
      },
      "execution_count": 4,
      "outputs": [
        {
          "output_type": "stream",
          "name": "stdout",
          "text": [
            "\u001b[?2026h\u001b[?25l\u001b[1G\u001b[?25h\u001b[?2026l\u001b[?2026h\u001b[?25l\u001b[1G\u001b[?25h\u001b[?2026l\u001b[?2026h\u001b[?25l\u001b[1G\u001b[?25h\u001b[?2026l\u001b[?2026h\u001b[?25l\u001b[1G\u001b[?25h\u001b[?2026l\u001b[?2026h\u001b[?25l\u001b[1G\u001b[?25h\u001b[?2026l\u001b[?2026h\u001b[?25l\u001b[1G\u001b[?25h\u001b[?2026l\u001b[?2026h\u001b[?25l\u001b[1G\u001b[?25h\u001b[?2026l\u001b[?2026h\u001b[?25l\u001b[1G\u001b[?25h\u001b[?2026l\u001b[?2026h\u001b[?25l\u001b[A\u001b[1G\u001b[?25h\u001b[?2026l\u001b[?2026h\u001b[?25l\u001b[A\u001b[1G\u001b[?25h\u001b[?2026l\u001b[?2026h\u001b[?25l\u001b[A\u001b[1G\u001b[?25h\u001b[?2026l\u001b[?2026h\u001b[?25l\u001b[A\u001b[1G\u001b[?25h\u001b[?2026l\u001b[?2026h\u001b[?25l\u001b[A\u001b[1G\u001b[?25h\u001b[?2026l\u001b[?2026h\u001b[?25l\u001b[A\u001b[1G\u001b[?25h\u001b[?2026l\u001b[?2026h\u001b[?25l\u001b[A\u001b[1G\u001b[?25h\u001b[?2026l\u001b[?2026h\u001b[?25l\u001b[A\u001b[1G\u001b[?25h\u001b[?2026l\u001b[?2026h\u001b[?25l\u001b[A\u001b[1G\u001b[?25h\u001b[?2026l\u001b[?2026h\u001b[?25l\u001b[A\u001b[1G\u001b[?25h\u001b[?2026l\u001b[?2026h\u001b[?25l\u001b[A\u001b[1G\u001b[?25h\u001b[?2026l\u001b[?2026h\u001b[?25l\u001b[A\u001b[1G\u001b[?25h\u001b[?2026l\u001b[?2026h\u001b[?25l\u001b[A\u001b[1G\u001b[?25h\u001b[?2026l\u001b[?2026h\u001b[?25l\u001b[A\u001b[1G\u001b[?25h\u001b[?2026l\u001b[?2026h\u001b[?25l\u001b[A\u001b[1G\u001b[?25h\u001b[?2026l\u001b[?2026h\u001b[?25l\u001b[A\u001b[1G\u001b[?25h\u001b[?2026l\u001b[?2026h\u001b[?25l\u001b[A\u001b[1G\u001b[?25h\u001b[?2026l\u001b[?2026h\u001b[?25l\u001b[A\u001b[1G\u001b[?25h\u001b[?2026l\u001b[?2026h\u001b[?25l\u001b[A\u001b[1G\u001b[?25h\u001b[?2026l\u001b[?2026h\u001b[?25l\u001b[A\u001b[1G\u001b[?25h\u001b[?2026l\u001b[?2026h\u001b[?25l\u001b[A\u001b[1G\u001b[?25h\u001b[?2026l\u001b[?2026h\u001b[?25l\u001b[A\u001b[1G\u001b[?25h\u001b[?2026l\u001b[?2026h\u001b[?25l\u001b[A\u001b[1G\u001b[?25h\u001b[?2026l\u001b[?2026h\u001b[?25l\u001b[A\u001b[1G\u001b[?25h\u001b[?2026l\u001b[?2026h\u001b[?25l\u001b[A\u001b[1G\u001b[?25h\u001b[?2026l\u001b[?2026h\u001b[?25l\u001b[A\u001b[1G\u001b[?25h\u001b[?2026l\u001b[?2026h\u001b[?25l\u001b[A\u001b[1G\u001b[?25h\u001b[?2026l\u001b[?2026h\u001b[?25l\u001b[A\u001b[1G\u001b[?25h\u001b[?2026l\u001b[?2026h\u001b[?25l\u001b[A\u001b[1G\u001b[?25h\u001b[?2026l\u001b[?2026h\u001b[?25l\u001b[A\u001b[1G\u001b[?25h\u001b[?2026l\u001b[?2026h\u001b[?25l\u001b[A\u001b[1G\u001b[?25h\u001b[?2026l\u001b[?2026h\u001b[?25l\u001b[A\u001b[1G\u001b[?25h\u001b[?2026l\u001b[?2026h\u001b[?25l\u001b[A\u001b[1G\u001b[?25h\u001b[?2026l\u001b[?2026h\u001b[?25l\u001b[A\u001b[1G\u001b[?25h\u001b[?2026l\u001b[?2026h\u001b[?25l\u001b[A\u001b[1G\u001b[?25h\u001b[?2026l\u001b[?2026h\u001b[?25l\u001b[A\u001b[1G\u001b[?25h\u001b[?2026l\u001b[?2026h\u001b[?25l\u001b[A\u001b[1G\u001b[?25h\u001b[?2026l\u001b[?2026h\u001b[?25l\u001b[A\u001b[1G\u001b[?25h\u001b[?2026l\u001b[?2026h\u001b[?25l\u001b[A\u001b[1G\u001b[?25h\u001b[?2026l\u001b[?2026h\u001b[?25l\u001b[A\u001b[1G\u001b[?25h\u001b[?2026l\u001b[?2026h\u001b[?25l\u001b[A\u001b[1G\u001b[?25h\u001b[?2026l\u001b[?2026h\u001b[?25l\u001b[A\u001b[1G\u001b[?25h\u001b[?2026l\u001b[?2026h\u001b[?25l\u001b[A\u001b[1G\u001b[?25h\u001b[?2026l\u001b[?2026h\u001b[?25l\u001b[A\u001b[1G\u001b[?25h\u001b[?2026l\u001b[?2026h\u001b[?25l\u001b[A\u001b[1G\u001b[?25h\u001b[?2026l\u001b[?2026h\u001b[?25l\u001b[A\u001b[1G\u001b[?25h\u001b[?2026l\u001b[?2026h\u001b[?25l\u001b[A\u001b[1G\u001b[?25h\u001b[?2026l\u001b[?2026h\u001b[?25l\u001b[A\u001b[1G\u001b[?25h\u001b[?2026l\u001b[?2026h\u001b[?25l\u001b[A\u001b[1G\u001b[?25h\u001b[?2026l\u001b[?2026h\u001b[?25l\u001b[A\u001b[1G\u001b[?25h\u001b[?2026l\u001b[?2026h\u001b[?25l\u001b[A\u001b[1G\u001b[?25h\u001b[?2026l\u001b[?2026h\u001b[?25l\u001b[A\u001b[1G\u001b[?25h\u001b[?2026l\u001b[?2026h\u001b[?25l\u001b[A\u001b[1G\u001b[?25h\u001b[?2026l\u001b[?2026h\u001b[?25l\u001b[A\u001b[1G\u001b[?25h\u001b[?2026l\u001b[?2026h\u001b[?25l\u001b[A\u001b[1G\u001b[?25h\u001b[?2026l\u001b[?2026h\u001b[?25l\u001b[A\u001b[1G\u001b[?25h\u001b[?2026l\u001b[?2026h\u001b[?25l\u001b[A\u001b[1G\u001b[?25h\u001b[?2026l\u001b[?2026h\u001b[?25l\u001b[A\u001b[1G\u001b[?25h\u001b[?2026l\u001b[?2026h\u001b[?25l\u001b[A\u001b[1G\u001b[?25h\u001b[?2026l\u001b[?2026h\u001b[?25l\u001b[A\u001b[1G\u001b[?25h\u001b[?2026l\u001b[?2026h\u001b[?25l\u001b[A\u001b[1G\u001b[?25h\u001b[?2026l\u001b[?2026h\u001b[?25l\u001b[A\u001b[1G\u001b[?25h\u001b[?2026l\u001b[?2026h\u001b[?25l\u001b[A\u001b[1G\u001b[?25h\u001b[?2026l\u001b[?2026h\u001b[?25l\u001b[A\u001b[1G\u001b[?25h\u001b[?2026l\u001b[?2026h\u001b[?25l\u001b[A\u001b[1G\u001b[?25h\u001b[?2026l\u001b[?2026h\u001b[?25l\u001b[A\u001b[1G\u001b[?25h\u001b[?2026l\u001b[?2026h\u001b[?25l\u001b[A\u001b[1G\u001b[?25h\u001b[?2026l\u001b[?2026h\u001b[?25l\u001b[A\u001b[1G\u001b[?25h\u001b[?2026l\u001b[?2026h\u001b[?25l\u001b[A\u001b[1G\u001b[?25h\u001b[?2026l\u001b[?2026h\u001b[?25l\u001b[A\u001b[1G\u001b[?25h\u001b[?2026l\u001b[?2026h\u001b[?25l\u001b[A\u001b[1G\u001b[?25h\u001b[?2026l\u001b[?2026h\u001b[?25l\u001b[A\u001b[1G\u001b[?25h\u001b[?2026l\u001b[?2026h\u001b[?25l\u001b[A\u001b[1G\u001b[?25h\u001b[?2026l\u001b[?2026h\u001b[?25l\u001b[A\u001b[1G\u001b[?25h\u001b[?2026l\u001b[?2026h\u001b[?25l\u001b[A\u001b[1G\u001b[?25h\u001b[?2026l\u001b[?2026h\u001b[?25l\u001b[A\u001b[1G\u001b[?25h\u001b[?2026l\u001b[?2026h\u001b[?25l\u001b[A\u001b[1G\u001b[?25h\u001b[?2026l\u001b[?2026h\u001b[?25l\u001b[A\u001b[1G\u001b[?25h\u001b[?2026l\u001b[?2026h\u001b[?25l\u001b[A\u001b[1G\u001b[?25h\u001b[?2026l\u001b[?2026h\u001b[?25l\u001b[A\u001b[1G\u001b[?25h\u001b[?2026l\u001b[?2026h\u001b[?25l\u001b[A\u001b[1G\u001b[?25h\u001b[?2026l\u001b[?2026h\u001b[?25l\u001b[A\u001b[1G\u001b[?25h\u001b[?2026l\u001b[?2026h\u001b[?25l\u001b[A\u001b[1G\u001b[?25h\u001b[?2026l\u001b[?2026h\u001b[?25l\u001b[A\u001b[1G\u001b[?25h\u001b[?2026l\u001b[?2026h\u001b[?25l\u001b[A\u001b[1G\u001b[?25h\u001b[?2026l\u001b[?2026h\u001b[?25l\u001b[A\u001b[1G\u001b[?25h\u001b[?2026l\u001b[?2026h\u001b[?25l\u001b[A\u001b[1G\u001b[?25h\u001b[?2026l\u001b[?2026h\u001b[?25l\u001b[A\u001b[1G\u001b[?25h\u001b[?2026l\u001b[?2026h\u001b[?25l\u001b[A\u001b[1G\u001b[?25h\u001b[?2026l\u001b[?2026h\u001b[?25l\u001b[A\u001b[1G\u001b[?25h\u001b[?2026l\u001b[?2026h\u001b[?25l\u001b[A\u001b[1G\u001b[?25h\u001b[?2026l\u001b[?2026h\u001b[?25l\u001b[A\u001b[1G\u001b[?25h\u001b[?2026l\u001b[?2026h\u001b[?25l\u001b[A\u001b[1G\u001b[?25h\u001b[?2026l\u001b[?2026h\u001b[?25l\u001b[A\u001b[1G\u001b[?25h\u001b[?2026l\u001b[?2026h\u001b[?25l\u001b[A\u001b[1G\u001b[?25h\u001b[?2026l\u001b[?2026h\u001b[?25l\u001b[A\u001b[1G\u001b[?25h\u001b[?2026l\u001b[?2026h\u001b[?25l\u001b[A\u001b[1G\u001b[?25h\u001b[?2026l\u001b[?2026h\u001b[?25l\u001b[A\u001b[1G\u001b[?25h\u001b[?2026l\u001b[?2026h\u001b[?25l\u001b[A\u001b[1G\u001b[?25h\u001b[?2026l\u001b[?2026h\u001b[?25l\u001b[A\u001b[1G\u001b[?25h\u001b[?2026l\u001b[?2026h\u001b[?25l\u001b[A\u001b[1G\u001b[?25h\u001b[?2026l\u001b[?2026h\u001b[?25l\u001b[A\u001b[1G\u001b[?25h\u001b[?2026l\u001b[?2026h\u001b[?25l\u001b[A\u001b[1G\u001b[?25h\u001b[?2026l\u001b[?2026h\u001b[?25l\u001b[A\u001b[1G\u001b[?25h\u001b[?2026l\u001b[?2026h\u001b[?25l\u001b[A\u001b[1G\u001b[?25h\u001b[?2026l\u001b[?2026h\u001b[?25l\u001b[A\u001b[1G\u001b[?25h\u001b[?2026l\u001b[?2026h\u001b[?25l\u001b[A\u001b[1G\u001b[?25h\u001b[?2026l\u001b[?2026h\u001b[?25l\u001b[A\u001b[1G\u001b[?25h\u001b[?2026l\u001b[?2026h\u001b[?25l\u001b[A\u001b[1G\u001b[?25h\u001b[?2026l\u001b[?2026h\u001b[?25l\u001b[A\u001b[1G\u001b[?25h\u001b[?2026l\u001b[?2026h\u001b[?25l\u001b[A\u001b[1G\u001b[?25h\u001b[?2026l\u001b[?2026h\u001b[?25l\u001b[A\u001b[1G\u001b[?25h\u001b[?2026l\u001b[?2026h\u001b[?25l\u001b[A\u001b[1G\u001b[?25h\u001b[?2026l\u001b[?2026h\u001b[?25l\u001b[A\u001b[1G\u001b[?25h\u001b[?2026l\u001b[?2026h\u001b[?25l\u001b[A\u001b[1G\u001b[?25h\u001b[?2026l\u001b[?2026h\u001b[?25l\u001b[A\u001b[1G\u001b[?25h\u001b[?2026l\u001b[?2026h\u001b[?25l\u001b[A\u001b[1G\u001b[?25h\u001b[?2026l\u001b[?2026h\u001b[?25l\u001b[A\u001b[1G\u001b[?25h\u001b[?2026l\u001b[?2026h\u001b[?25l\u001b[A\u001b[1G\u001b[?25h\u001b[?2026l\u001b[?2026h\u001b[?25l\u001b[A\u001b[1G\u001b[?25h\u001b[?2026l\u001b[?2026h\u001b[?25l\u001b[A\u001b[1G\u001b[?25h\u001b[?2026l\u001b[?2026h\u001b[?25l\u001b[A\u001b[A\u001b[1G\u001b[?25h\u001b[?2026l\u001b[?2026h\u001b[?25l\u001b[A\u001b[A\u001b[1G\u001b[?25h\u001b[?2026l\u001b[?2026h\u001b[?25l\u001b[A\u001b[A\u001b[1G\u001b[?25h\u001b[?2026l\u001b[?2026h\u001b[?25l\u001b[A\u001b[A\u001b[1G\u001b[?25h\u001b[?2026l\u001b[?2026h\u001b[?25l\u001b[A\u001b[A\u001b[1G\u001b[?25h\u001b[?2026l\u001b[?2026h\u001b[?25l\u001b[A\u001b[A\u001b[1G\u001b[?25h\u001b[?2026l\u001b[?2026h\u001b[?25l\u001b[A\u001b[A\u001b[1G\u001b[?25h\u001b[?2026l\u001b[?2026h\u001b[?25l\u001b[A\u001b[A\u001b[1G\u001b[?25h\u001b[?2026l\u001b[?2026h\u001b[?25l\u001b[A\u001b[A\u001b[1G\u001b[?25h\u001b[?2026l\u001b[?2026h\u001b[?25l\u001b[A\u001b[A\u001b[1G\u001b[?25h\u001b[?2026l\u001b[?2026h\u001b[?25l\u001b[A\u001b[A\u001b[1G\u001b[?25h\u001b[?2026l\u001b[?2026h\u001b[?25l\u001b[A\u001b[A\u001b[1G\u001b[?25h\u001b[?2026l\u001b[?2026h\u001b[?25l\u001b[A\u001b[A\u001b[1G\u001b[?25h\u001b[?2026l\u001b[?2026h\u001b[?25l\u001b[A\u001b[A\u001b[A\u001b[1G\u001b[?25h\u001b[?2026l\u001b[?2026h\u001b[?25l\u001b[A\u001b[A\u001b[A\u001b[1G\u001b[?25h\u001b[?2026l\u001b[?2026h\u001b[?25l\u001b[A\u001b[A\u001b[A\u001b[1G\u001b[?25h\u001b[?2026l\u001b[?2026h\u001b[?25l\u001b[A\u001b[A\u001b[A\u001b[1G\u001b[?25h\u001b[?2026l\u001b[?2026h\u001b[?25l\u001b[A\u001b[A\u001b[A\u001b[1G\u001b[?25h\u001b[?2026l\u001b[?2026h\u001b[?25l\u001b[A\u001b[A\u001b[A\u001b[1G\u001b[?25h\u001b[?2026l\u001b[?2026h\u001b[?25l\u001b[A\u001b[A\u001b[A\u001b[1G\u001b[?25h\u001b[?2026l\u001b[?2026h\u001b[?25l\u001b[A\u001b[A\u001b[A\u001b[1G\u001b[?25h\u001b[?2026l\u001b[?2026h\u001b[?25l\u001b[A\u001b[A\u001b[A\u001b[1G\u001b[?25h\u001b[?2026l\u001b[?2026h\u001b[?25l\u001b[A\u001b[A\u001b[A\u001b[1G\u001b[?25h\u001b[?2026l\u001b[?2026h\u001b[?25l\u001b[A\u001b[A\u001b[A\u001b[1G\u001b[?25h\u001b[?2026l\u001b[?2026h\u001b[?25l\u001b[A\u001b[A\u001b[A\u001b[1G\u001b[?25h\u001b[?2026l\u001b[?2026h\u001b[?25l\u001b[A\u001b[A\u001b[A\u001b[A\u001b[1G\u001b[?25h\u001b[?2026l\u001b[?2026h\u001b[?25l\u001b[A\u001b[A\u001b[A\u001b[A\u001b[1G\u001b[?25h\u001b[?2026l\u001b[?2026h\u001b[?25l\u001b[A\u001b[A\u001b[A\u001b[A\u001b[1G\u001b[?25h\u001b[?2026l\u001b[?2026h\u001b[?25l\u001b[A\u001b[A\u001b[A\u001b[A\u001b[1G\u001b[?25h\u001b[?2026l\u001b[?2026h\u001b[?25l\u001b[A\u001b[A\u001b[A\u001b[A\u001b[1G\u001b[?25h\u001b[?2026l\u001b[?2026h\u001b[?25l\u001b[A\u001b[A\u001b[A\u001b[A\u001b[1G\u001b[?25h\u001b[?2026l\u001b[?2026h\u001b[?25l\u001b[A\u001b[A\u001b[A\u001b[A\u001b[1G\u001b[?25h\u001b[?2026l\u001b[?2026h\u001b[?25l\u001b[A\u001b[A\u001b[A\u001b[A\u001b[1G\u001b[?25h\u001b[?2026l\u001b[?2026h\u001b[?25l\u001b[A\u001b[A\u001b[A\u001b[A\u001b[1G\u001b[?25h\u001b[?2026l\u001b[?2026h\u001b[?25l\u001b[A\u001b[A\u001b[A\u001b[A\u001b[1G\u001b[?25h\u001b[?2026l\u001b[?2026h\u001b[?25l\u001b[A\u001b[A\u001b[A\u001b[A\u001b[1G\u001b[?25h\u001b[?2026l\u001b[?2026h\u001b[?25l\u001b[A\u001b[A\u001b[A\u001b[A\u001b[1G\u001b[?25h\u001b[?2026l\u001b[?2026h\u001b[?25l\u001b[A\u001b[A\u001b[A\u001b[A\u001b[A\u001b[1G\u001b[?25h\u001b[?2026l\u001b[?2026h\u001b[?25l\u001b[A\u001b[A\u001b[A\u001b[A\u001b[A\u001b[1G\u001b[?25h\u001b[?2026l\u001b[?2026h\u001b[?25l\u001b[A\u001b[A\u001b[A\u001b[A\u001b[A\u001b[1G\u001b[?25h\u001b[?2026l\u001b[?2026h\u001b[?25l\u001b[A\u001b[A\u001b[A\u001b[A\u001b[A\u001b[1G\u001b[?25h\u001b[?2026l\u001b[?2026h\u001b[?25l\u001b[A\u001b[A\u001b[A\u001b[A\u001b[A\u001b[1G\u001b[?25h\u001b[?2026l\u001b[?2026h\u001b[?25l\u001b[A\u001b[A\u001b[A\u001b[A\u001b[A\u001b[1G\u001b[?25h\u001b[?2026l\u001b[?2026h\u001b[?25l\u001b[A\u001b[A\u001b[A\u001b[A\u001b[A\u001b[1G\u001b[?25h\u001b[?2026l\u001b[?2026h\u001b[?25l\u001b[A\u001b[A\u001b[A\u001b[A\u001b[A\u001b[1G\u001b[?25h\u001b[?2026l\u001b[?2026h\u001b[?25l\u001b[A\u001b[A\u001b[A\u001b[A\u001b[A\u001b[1G\u001b[?25h\u001b[?2026l\u001b[?2026h\u001b[?25l\u001b[A\u001b[A\u001b[A\u001b[A\u001b[A\u001b[1G\u001b[?25h\u001b[?2026l\u001b[?2026h\u001b[?25l\u001b[A\u001b[A\u001b[A\u001b[A\u001b[A\u001b[1G\u001b[?25h\u001b[?2026l\u001b[?2026h\u001b[?25l\u001b[A\u001b[A\u001b[A\u001b[A\u001b[A\u001b[1G\u001b[?25h\u001b[?2026l\u001b[?2026h\u001b[?25l\u001b[A\u001b[A\u001b[A\u001b[A\u001b[A\u001b[A\u001b[1G\u001b[?25h\u001b[?2026l\u001b[?2026h\u001b[?25l\u001b[A\u001b[A\u001b[A\u001b[A\u001b[A\u001b[A\u001b[1G\u001b[?25h\u001b[?2026l\u001b[?2026h\u001b[?25l\u001b[A\u001b[A\u001b[A\u001b[A\u001b[A\u001b[A\u001b[1G\u001b[?25h\u001b[?2026l\u001b[?2026h\u001b[?25l\u001b[A\u001b[A\u001b[A\u001b[A\u001b[A\u001b[A\u001b[1G\u001b[?25h\u001b[?2026l\u001b[?2026h\u001b[?25l\u001b[A\u001b[A\u001b[A\u001b[A\u001b[A\u001b[A\u001b[1G\u001b[?25h\u001b[?2026l\u001b[?2026h\u001b[?25l\u001b[A\u001b[A\u001b[A\u001b[A\u001b[A\u001b[A\u001b[1G\u001b[?25h\u001b[?2026l\u001b[?2026h\u001b[?25l\u001b[A\u001b[A\u001b[A\u001b[A\u001b[A\u001b[A\u001b[1G\u001b[?25h\u001b[?2026l\u001b[?2026h\u001b[?25l\u001b[A\u001b[A\u001b[A\u001b[A\u001b[A\u001b[A\u001b[1G\u001b[?25h\u001b[?2026l\u001b[?2026h\u001b[?25l\u001b[A\u001b[A\u001b[A\u001b[A\u001b[A\u001b[A\u001b[1G\u001b[?25h\u001b[?2026l\u001b[?2026h\u001b[?25l\u001b[A\u001b[A\u001b[A\u001b[A\u001b[A\u001b[A\u001b[A\u001b[1G\u001b[?25h\u001b[?2026l\u001b[?2026h\u001b[?25l\u001b[A\u001b[A\u001b[A\u001b[A\u001b[A\u001b[A\u001b[A\u001b[1G\u001b[?25h\u001b[?2026l\u001b[?2026h\u001b[?25l\u001b[A\u001b[A\u001b[A\u001b[A\u001b[A\u001b[A\u001b[A\u001b[1G\u001b[?25h\u001b[?2026l\u001b[?2026h\u001b[?25l\u001b[A\u001b[A\u001b[A\u001b[A\u001b[A\u001b[A\u001b[A\u001b[1G\u001b[?25h\u001b[?2026l\u001b[?2026h\u001b[?25l\u001b[A\u001b[A\u001b[A\u001b[A\u001b[A\u001b[A\u001b[A\u001b[1G\u001b[?25h\u001b[?2026l\u001b[?2026h\u001b[?25l\u001b[A\u001b[A\u001b[A\u001b[A\u001b[A\u001b[A\u001b[A\u001b[1G\u001b[?25h\u001b[?2026l\u001b[?2026h\u001b[?25l\u001b[A\u001b[A\u001b[A\u001b[A\u001b[A\u001b[A\u001b[A\u001b[1G\u001b[?25h\u001b[?2026l\u001b[?2026h\u001b[?25l\u001b[A\u001b[A\u001b[A\u001b[A\u001b[A\u001b[A\u001b[A\u001b[1G\u001b[?25h\u001b[?2026l\u001b[?2026h\u001b[?25l\u001b[A\u001b[A\u001b[A\u001b[A\u001b[A\u001b[A\u001b[A\u001b[1G\u001b[?25h\u001b[?2026l\u001b[?2026h\u001b[?25l\u001b[A\u001b[A\u001b[A\u001b[A\u001b[A\u001b[A\u001b[A\u001b[1G\u001b[?25h\u001b[?2026l\u001b[?2026h\u001b[?25l\u001b[A\u001b[A\u001b[A\u001b[A\u001b[A\u001b[A\u001b[A\u001b[1G\u001b[?25h\u001b[?2026l\u001b[?2026h\u001b[?25l\u001b[A\u001b[A\u001b[A\u001b[A\u001b[A\u001b[A\u001b[A\u001b[1G\u001b[?25h\u001b[?2026l\u001b[?2026h\u001b[?25l\u001b[A\u001b[A\u001b[A\u001b[A\u001b[A\u001b[A\u001b[A\u001b[1G\u001b[?25h\u001b[?2026l\u001b[?2026h\u001b[?25l\u001b[A\u001b[A\u001b[A\u001b[A\u001b[A\u001b[A\u001b[A\u001b[1G\u001b[?25h\u001b[?2026l\u001b[?2026h\u001b[?25l\u001b[A\u001b[A\u001b[A\u001b[A\u001b[A\u001b[A\u001b[A\u001b[1G\u001b[?25h\u001b[?2026l\u001b[?2026h\u001b[?25l\u001b[A\u001b[A\u001b[A\u001b[A\u001b[A\u001b[A\u001b[A\u001b[1G\u001b[?25h\u001b[?2026l\u001b[?2026h\u001b[?25l\u001b[A\u001b[A\u001b[A\u001b[A\u001b[A\u001b[A\u001b[A\u001b[1G\u001b[?25h\u001b[?2026l\u001b[?2026h\u001b[?25l\u001b[A\u001b[A\u001b[A\u001b[A\u001b[A\u001b[A\u001b[A\u001b[1G\u001b[?25h\u001b[?2026l\u001b[?2026h\u001b[?25l\u001b[A\u001b[A\u001b[A\u001b[A\u001b[A\u001b[A\u001b[A\u001b[1G\u001b[?25h\u001b[?2026l\u001b[?2026h\u001b[?25l\u001b[A\u001b[A\u001b[A\u001b[A\u001b[A\u001b[A\u001b[A\u001b[1G\u001b[?25h\u001b[?2026l\u001b[?2026h\u001b[?25l\u001b[A\u001b[A\u001b[A\u001b[A\u001b[A\u001b[A\u001b[A\u001b[1G\u001b[?25h\u001b[?2026l\u001b[?2026h\u001b[?25l\u001b[A\u001b[A\u001b[A\u001b[A\u001b[A\u001b[A\u001b[A\u001b[1G\u001b[?25h\u001b[?2026l\u001b[?2026h\u001b[?25l\u001b[A\u001b[A\u001b[A\u001b[A\u001b[A\u001b[A\u001b[A\u001b[1G\u001b[?25h\u001b[?2026l\u001b[?2026h\u001b[?25l\u001b[A\u001b[A\u001b[A\u001b[A\u001b[A\u001b[A\u001b[A\u001b[1G\u001b[?25h\u001b[?2026l\u001b[?2026h\u001b[?25l\u001b[A\u001b[A\u001b[A\u001b[A\u001b[A\u001b[A\u001b[A\u001b[1G\u001b[?25h\u001b[?2026l\u001b[?2026h\u001b[?25l\u001b[A\u001b[A\u001b[A\u001b[A\u001b[A\u001b[A\u001b[A\u001b[1G\u001b[?25h\u001b[?2026l\u001b[?2026h\u001b[?25l\u001b[A\u001b[A\u001b[A\u001b[A\u001b[A\u001b[A\u001b[A\u001b[1G\u001b[?25h\u001b[?2026l\u001b[?2026h\u001b[?25l\u001b[A\u001b[A\u001b[A\u001b[A\u001b[A\u001b[A\u001b[A\u001b[1G\u001b[?25h\u001b[?2026l\u001b[?2026h\u001b[?25l\u001b[A\u001b[A\u001b[A\u001b[A\u001b[A\u001b[A\u001b[A\u001b[1G\u001b[?25h\u001b[?2026l\u001b[?2026h\u001b[?25l\u001b[A\u001b[A\u001b[A\u001b[A\u001b[A\u001b[A\u001b[A\u001b[1G\u001b[?25h\u001b[?2026l\u001b[?2026h\u001b[?25l\u001b[A\u001b[A\u001b[A\u001b[A\u001b[A\u001b[A\u001b[A\u001b[1G\u001b[?25h\u001b[?2026l\u001b[?2026h\u001b[?25l\u001b[A\u001b[A\u001b[A\u001b[A\u001b[A\u001b[A\u001b[A\u001b[1G\u001b[?25h\u001b[?2026l\u001b[?2026h\u001b[?25l\u001b[A\u001b[A\u001b[A\u001b[A\u001b[A\u001b[A\u001b[A\u001b[1G\u001b[?25h\u001b[?2026l\u001b[?2026h\u001b[?25l\u001b[A\u001b[A\u001b[A\u001b[A\u001b[A\u001b[A\u001b[A\u001b[1G\u001b[?25h\u001b[?2026l\u001b[?2026h\u001b[?25l\u001b[A\u001b[A\u001b[A\u001b[A\u001b[A\u001b[A\u001b[A\u001b[1G\u001b[?25h\u001b[?2026l\u001b[?2026h\u001b[?25l\u001b[A\u001b[A\u001b[A\u001b[A\u001b[A\u001b[A\u001b[A\u001b[1G\u001b[?25h\u001b[?2026l\u001b[?2026h\u001b[?25l\u001b[A\u001b[A\u001b[A\u001b[A\u001b[A\u001b[A\u001b[A\u001b[1G\u001b[?25h\u001b[?2026l\u001b[?2026h\u001b[?25l\u001b[A\u001b[A\u001b[A\u001b[A\u001b[A\u001b[A\u001b[A\u001b[1G\u001b[?25h\u001b[?2026l\u001b[?2026h\u001b[?25l\u001b[A\u001b[A\u001b[A\u001b[A\u001b[A\u001b[A\u001b[A\u001b[1G\u001b[?25h\u001b[?2026l\u001b[?2026h\u001b[?25l\u001b[A\u001b[A\u001b[A\u001b[A\u001b[A\u001b[A\u001b[A\u001b[1G\u001b[?25h\u001b[?2026l\u001b[?2026h\u001b[?25l\u001b[A\u001b[A\u001b[A\u001b[A\u001b[A\u001b[A\u001b[A\u001b[1G\u001b[?25h\u001b[?2026l\u001b[?2026h\u001b[?25l\u001b[A\u001b[A\u001b[A\u001b[A\u001b[A\u001b[A\u001b[A\u001b[1G\u001b[?25h\u001b[?2026l\u001b[?2026h\u001b[?25l\u001b[A\u001b[A\u001b[A\u001b[A\u001b[A\u001b[A\u001b[A\u001b[1G\u001b[?25h\u001b[?2026l\u001b[?2026h\u001b[?25l\u001b[A\u001b[A\u001b[A\u001b[A\u001b[A\u001b[A\u001b[A\u001b[1G\u001b[?25h\u001b[?2026l\u001b[?2026h\u001b[?25l\u001b[A\u001b[A\u001b[A\u001b[A\u001b[A\u001b[A\u001b[A\u001b[1G\u001b[?25h\u001b[?2026l\u001b[?2026h\u001b[?25l\u001b[A\u001b[A\u001b[A\u001b[A\u001b[A\u001b[A\u001b[A\u001b[1G\u001b[?25h\u001b[?2026l\u001b[?2026h\u001b[?25l\u001b[A\u001b[A\u001b[A\u001b[A\u001b[A\u001b[A\u001b[A\u001b[1G\u001b[?25h\u001b[?2026l\u001b[?2026h\u001b[?25l\u001b[A\u001b[A\u001b[A\u001b[A\u001b[A\u001b[A\u001b[A\u001b[1G\u001b[?25h\u001b[?2026l\u001b[?2026h\u001b[?25l\u001b[A\u001b[A\u001b[A\u001b[A\u001b[A\u001b[A\u001b[A\u001b[1G\u001b[?25h\u001b[?2026l\u001b[?2026h\u001b[?25l\u001b[A\u001b[A\u001b[A\u001b[A\u001b[A\u001b[A\u001b[A\u001b[1G\u001b[?25h\u001b[?2026l\u001b[?2026h\u001b[?25l\u001b[A\u001b[A\u001b[A\u001b[A\u001b[A\u001b[A\u001b[A\u001b[1G\u001b[?25h\u001b[?2026l\u001b[?2026h\u001b[?25l\u001b[A\u001b[A\u001b[A\u001b[A\u001b[A\u001b[A\u001b[A\u001b[1G\u001b[?25h\u001b[?2026l\u001b[?2026h\u001b[?25l\u001b[A\u001b[A\u001b[A\u001b[A\u001b[A\u001b[A\u001b[A\u001b[1G\u001b[?25h\u001b[?2026l\u001b[?2026h\u001b[?25l\u001b[A\u001b[A\u001b[A\u001b[A\u001b[A\u001b[A\u001b[A\u001b[1G\u001b[?25h\u001b[?2026l\u001b[?2026h\u001b[?25l\u001b[A\u001b[A\u001b[A\u001b[A\u001b[A\u001b[A\u001b[A\u001b[1G\u001b[?25h\u001b[?2026l\u001b[?2026h\u001b[?25l\u001b[A\u001b[A\u001b[A\u001b[A\u001b[A\u001b[A\u001b[A\u001b[1G\u001b[?25h\u001b[?2026l\u001b[?2026h\u001b[?25l\u001b[A\u001b[A\u001b[A\u001b[A\u001b[A\u001b[A\u001b[A\u001b[1G\u001b[?25h\u001b[?2026l\u001b[?2026h\u001b[?25l\u001b[A\u001b[A\u001b[A\u001b[A\u001b[A\u001b[A\u001b[A\u001b[1G\u001b[?25h\u001b[?2026l\u001b[?2026h\u001b[?25l\u001b[A\u001b[A\u001b[A\u001b[A\u001b[A\u001b[A\u001b[A\u001b[1G\u001b[?25h\u001b[?2026l\u001b[?2026h\u001b[?25l\u001b[A\u001b[A\u001b[A\u001b[A\u001b[A\u001b[A\u001b[A\u001b[1G\u001b[?25h\u001b[?2026l\u001b[?2026h\u001b[?25l\u001b[A\u001b[A\u001b[A\u001b[A\u001b[A\u001b[A\u001b[A\u001b[1G\u001b[?25h\u001b[?2026l\u001b[?2026h\u001b[?25l\u001b[A\u001b[A\u001b[A\u001b[A\u001b[A\u001b[A\u001b[A\u001b[1G\u001b[?25h\u001b[?2026l\u001b[?2026h\u001b[?25l\u001b[A\u001b[A\u001b[A\u001b[A\u001b[A\u001b[A\u001b[A\u001b[1G\u001b[?25h\u001b[?2026l\u001b[?2026h\u001b[?25l\u001b[A\u001b[A\u001b[A\u001b[A\u001b[A\u001b[A\u001b[A\u001b[1G\u001b[?25h\u001b[?2026l\u001b[?2026h\u001b[?25l\u001b[A\u001b[A\u001b[A\u001b[A\u001b[A\u001b[A\u001b[A\u001b[1G\u001b[?25h\u001b[?2026l\u001b[?2026h\u001b[?25l\u001b[A\u001b[A\u001b[A\u001b[A\u001b[A\u001b[A\u001b[A\u001b[1G\u001b[?25h\u001b[?2026l\u001b[?2026h\u001b[?25l\u001b[A\u001b[A\u001b[A\u001b[A\u001b[A\u001b[A\u001b[A\u001b[1G\u001b[?25h\u001b[?2026l\u001b[?2026h\u001b[?25l\u001b[A\u001b[A\u001b[A\u001b[A\u001b[A\u001b[A\u001b[A\u001b[1G\u001b[?25h\u001b[?2026l\u001b[?2026h\u001b[?25l\u001b[A\u001b[A\u001b[A\u001b[A\u001b[A\u001b[A\u001b[A\u001b[1G\u001b[?25h\u001b[?2026l\u001b[?2026h\u001b[?25l\u001b[A\u001b[A\u001b[A\u001b[A\u001b[A\u001b[A\u001b[A\u001b[1G\u001b[?25h\u001b[?2026l\u001b[?2026h\u001b[?25l\u001b[A\u001b[A\u001b[A\u001b[A\u001b[A\u001b[A\u001b[A\u001b[1G\u001b[?25h\u001b[?2026l\u001b[?2026h\u001b[?25l\u001b[A\u001b[A\u001b[A\u001b[A\u001b[A\u001b[A\u001b[A\u001b[1G\u001b[?25h\u001b[?2026l\u001b[?2026h\u001b[?25l\u001b[A\u001b[A\u001b[A\u001b[A\u001b[A\u001b[A\u001b[A\u001b[1G\u001b[?25h\u001b[?2026l\u001b[?2026h\u001b[?25l\u001b[A\u001b[A\u001b[A\u001b[A\u001b[A\u001b[A\u001b[A\u001b[1G\u001b[?25h\u001b[?2026l\u001b[?2026h\u001b[?25l\u001b[A\u001b[A\u001b[A\u001b[A\u001b[A\u001b[A\u001b[A\u001b[1G\u001b[?25h\u001b[?2026l\u001b[?2026h\u001b[?25l\u001b[A\u001b[A\u001b[A\u001b[A\u001b[A\u001b[A\u001b[A\u001b[1G\u001b[?25h\u001b[?2026l\u001b[?2026h\u001b[?25l\u001b[A\u001b[A\u001b[A\u001b[A\u001b[A\u001b[A\u001b[A\u001b[1G\u001b[?25h\u001b[?2026l\u001b[?2026h\u001b[?25l\u001b[A\u001b[A\u001b[A\u001b[A\u001b[A\u001b[A\u001b[A\u001b[1G\u001b[?25h\u001b[?2026l\u001b[?2026h\u001b[?25l\u001b[A\u001b[A\u001b[A\u001b[A\u001b[A\u001b[A\u001b[A\u001b[1G\u001b[?25h\u001b[?2026l\u001b[?2026h\u001b[?25l\u001b[A\u001b[A\u001b[A\u001b[A\u001b[A\u001b[A\u001b[A\u001b[1G\u001b[?25h\u001b[?2026l\n"
          ]
        }
      ]
    },
    {
      "cell_type": "markdown",
      "source": [
        "### Setup Paths and Retrievers"
      ],
      "metadata": {
        "id": "YcwtomRFTdKW"
      }
    },
    {
      "cell_type": "markdown",
      "source": [
        "We use a cleaned subsample (1,000 messages) of the X dataset in https://github.com/sinking8/x-24-us-election (Publication: https://arxiv.org/abs/2411.00376). Shared under CC BY-SA 4.0.\n",
        "\n",
        "For NTLRAG, three input files are needed:\n",
        "\n",
        "\n",
        "1.   A .csv file with at least columns: Document = text of the short message, Topic = number of topic assigned to the document,\n",
        "2.   a .json file with topic keywords (see sample file) and,\n",
        "3.   a .json file with news data (see sample file).\n",
        "\n"
      ],
      "metadata": {
        "id": "l1jnMlS9AJJY"
      }
    },
    {
      "cell_type": "code",
      "source": [
        "# all repo paths\n",
        "REPO_PATH = Path(\"/content/NTLRAG\")\n",
        "CSV_PATH = REPO_PATH / \"data\" / \"testdata_seedtopics.csv\" # csv file with document text and topic number\n",
        "KEYW_PATH = REPO_PATH / \"data\" / \"testdata_topic_keywords.json\" # json file with topic keywords\n",
        "NEWS_PATH = REPO_PATH / \"data\" / \"testdata_news.json\" # json file with news data\n",
        "output_dir = REPO_PATH / \"results\" # output directory for the narratives, adjust to yours\n",
        "\n",
        "# Add repo root to python path for imports\n",
        "sys.path.append(str(REPO_PATH))\n"
      ],
      "metadata": {
        "id": "ZNhk3PoWTcLD"
      },
      "execution_count": 8,
      "outputs": []
    },
    {
      "cell_type": "code",
      "source": [
        "# load topic model output file\n",
        "df = pd.read_csv(CSV_PATH)\n",
        "\n",
        "# load topic keywords\n",
        "with open(KEYW_PATH, \"r\") as f:\n",
        "    topic_keywords = json.load(f)"
      ],
      "metadata": {
        "id": "KS57Xe_hTkNj"
      },
      "execution_count": 9,
      "outputs": []
    },
    {
      "cell_type": "code",
      "source": [
        "# chroma uses ollama embeddings, adjust LLM if needed\n",
        "embedding_model = OllamaEmbeddings(\n",
        "    model=\"llama3.2\",\n",
        ")"
      ],
      "metadata": {
        "id": "TLxsZaEETsQN"
      },
      "execution_count": 10,
      "outputs": []
    },
    {
      "cell_type": "code",
      "source": [
        "# assign ollamaEmbeddings to chroma builder\n",
        "chroma = Chroma(\n",
        "    embedding_function=embedding_model\n",
        ")"
      ],
      "metadata": {
        "collapsed": true,
        "id": "Kd4NE_9OTmQR"
      },
      "execution_count": null,
      "outputs": []
    },
    {
      "cell_type": "code",
      "source": [
        "# load news documents from repository\n",
        "from rag_pipeline.utils import load_json_documents\n",
        "docs = load_json_documents(NEWS_PATH, content_key=\"description\")"
      ],
      "metadata": {
        "id": "jmInEKOyTrzc"
      },
      "execution_count": 12,
      "outputs": []
    },
    {
      "cell_type": "code",
      "source": [
        "# add news documents to chroma vector storage\n",
        "chroma.add_documents(docs)"
      ],
      "metadata": {
        "id": "pW2-2wC6TyOZ",
        "collapsed": true
      },
      "execution_count": null,
      "outputs": []
    },
    {
      "cell_type": "code",
      "source": [
        "# build chroma retriever\n",
        "chroma_retriever = chroma.as_retriever(search_kwargs={\"k\": 5})  # retrieve top 5 docs, adjust number if needed"
      ],
      "metadata": {
        "id": "2gZu-8G4T0ZN"
      },
      "execution_count": 14,
      "outputs": []
    },
    {
      "cell_type": "code",
      "source": [
        "# build bm25 retriever dict\n",
        "bm25_retrievers = {}\n",
        "\n",
        "# make sure topic values are integers or strings, depending on your JSON keys\n",
        "df['Topic'] = df['Topic'].astype(str)\n",
        "\n",
        "# loop over each topic to create a BM25 retriever\n",
        "for topic_id in df['Topic'].unique():\n",
        "    topic_docs = df[df['Topic'] == topic_id]\n",
        "\n",
        "    # convert to LangChain Document objects\n",
        "    documents = [\n",
        "        Document(\n",
        "            page_content=row['Document'],\n",
        "            metadata={\"topic\": topic_id}\n",
        "        )\n",
        "        for _, row in topic_docs.iterrows()\n",
        "    ]\n",
        "\n",
        "    # build BM25Retriever for this topic\n",
        "    retriever = BM25Retriever.from_documents(documents)\n",
        "    retriever.k = 10\n",
        "\n",
        "    # add to dictionary\n",
        "    bm25_retrievers[topic_id] = retriever"
      ],
      "metadata": {
        "id": "zu27exCfT0_Q"
      },
      "execution_count": 15,
      "outputs": []
    },
    {
      "cell_type": "code",
      "source": [
        "# load functions for RAG pipeline\n",
        "from rag_pipeline.utils import load_json_documents\n",
        "import rag_pipeline.pipeline_functions as pfct\n",
        "from rag_pipeline.pipeline_functions import GraphState, Narrative\n",
        "from rag_pipeline.pipeline_functions import run_narrative_extraction"
      ],
      "metadata": {
        "id": "9E5VQnD3Oq4A"
      },
      "execution_count": 16,
      "outputs": []
    },
    {
      "cell_type": "markdown",
      "source": [
        "### Run NTLRAG"
      ],
      "metadata": {
        "id": "qCYWC1zudtkK"
      }
    },
    {
      "cell_type": "code",
      "source": [
        "# Run narrative extraction\n",
        "all_approved_narratives, topic_results = run_narrative_extraction(\n",
        "    topic_keywords=topic_keywords,\n",
        "    bm25_retrievers=bm25_retrievers,\n",
        "    chroma_retriever=chroma_retriever,\n",
        "    output_dir=output_dir\n",
        ")\n",
        "\n",
        "# the print provides NTLRAG results including chain-of-thought answers by the LLM for the sample dataset\n",
        "print(f\"Total approved narratives: {len(all_approved_narratives)}\")"
      ],
      "metadata": {
        "id": "bTQOjmYkdwtP",
        "colab": {
          "base_uri": "https://localhost:8080/"
        },
        "outputId": "7126b33f-7b1f-4e49-ea22-350f39c716d3"
      },
      "execution_count": 17,
      "outputs": [
        {
          "output_type": "stream",
          "name": "stdout",
          "text": [
            "\n",
            "🚀 Processing topic 0...\n",
            "🔄 Extract attempt 1 for topic 0...\n",
            "RAW LLM result: topic_id='' actor='user' action='opine/express negative opinion' event='Joe Biden dropping out of the race, Trump x Biden edits to Chappell songs expiring' description=\"Some users express disappointment and frustration with Joe Biden's decision to drop out of the race\"\n",
            "Narrative before overwrite: topic_id='' actor='user' action='opine/express negative opinion' event='Joe Biden dropping out of the race, Trump x Biden edits to Chappell songs expiring' description=\"Some users express disappointment and frustration with Joe Biden's decision to drop out of the race\"\n",
            "Narrative after overwrite: topic_id='0' actor='user' action='opine/express negative opinion' event='Joe Biden dropping out of the race, Trump x Biden edits to Chappell songs expiring' description=\"Some users express disappointment and frustration with Joe Biden's decision to drop out of the race\"\n",
            "📝 Narrative to grade (may be partial): topic_id='0' actor='user' action='opine/express negative opinion' event='Joe Biden dropping out of the race, Trump x Biden edits to Chappell songs expiring' description=\"Some users express disappointment and frustration with Joe Biden's decision to drop out of the race\"\n",
            "✅ Grading result: grade=<Grade.approved: 'approved'> explanation='The narrative is consistent with the context. Although the tone may be negative or critical, it does not contradict any facts presented in the supporting documents.'\n",
            "🎉 Narrative approved or force-approved for topic 0.\n",
            "✅ Topic 0 done. 1 narrative(s) approved.\n",
            "\n",
            "🚀 Processing topic 1...\n",
            "🔄 Extract attempt 1 for topic 1...\n",
            "RAW LLM result: topic_id='[No direct information available]' actor='Kamala Harris' action='intends to earn and win' event='presidential nomination' description=\"Kamala Harris intends to earn and win the presidential nomination following Biden's potential withdrawal.\"\n",
            "Narrative before overwrite: topic_id='[No direct information available]' actor='Kamala Harris' action='intends to earn and win' event='presidential nomination' description=\"Kamala Harris intends to earn and win the presidential nomination following Biden's potential withdrawal.\"\n",
            "Narrative after overwrite: topic_id='1' actor='Kamala Harris' action='intends to earn and win' event='presidential nomination' description=\"Kamala Harris intends to earn and win the presidential nomination following Biden's potential withdrawal.\"\n",
            "📝 Narrative to grade (may be partial): topic_id='1' actor='Kamala Harris' action='intends to earn and win' event='presidential nomination' description=\"Kamala Harris intends to earn and win the presidential nomination following Biden's potential withdrawal.\"\n",
            "✅ Grading result: grade=<Grade.refine: 'refine'> explanation=\"The narrative contradicts the context by stating that Kamala Harris intends to earn and win the presidential nomination *following* Biden's potential withdrawal, when in fact the news article states she *intends to earn and win this nomination after Biden drops out*. The event described is not exactly the same as the original message.\"\n",
            "🔁 Refining narrative for topic 1...\n",
            "RAW LLM result (refine): topic_id='/n/03wvz0' actor='user' action='endorse' event='winning the election' description='Kamala Harris will win the nomination after Biden steps down'\n",
            "Narrative before overwrite: topic_id='/n/03wvz0' actor='user' action='endorse' event='winning the election' description='Kamala Harris will win the nomination after Biden steps down'\n",
            "Narrative after overwrite: topic_id='1' actor='user' action='endorse' event='winning the election' description='Kamala Harris will win the nomination after Biden steps down'\n",
            "📝 Narrative to grade (may be partial): topic_id='1' actor='user' action='endorse' event='winning the election' description='Kamala Harris will win the nomination after Biden steps down'\n",
            "✅ Grading result: grade=<Grade.refine: 'refine'> explanation='The narrative contradicts the context (i.e. directly conflicts).'\n",
            "🔁 Refining narrative for topic 1...\n",
            "RAW LLM result (refine): topic_id='Why Kamala Harris Should Win' actor='user' action='should win the election' event='presidential election' description='Kamala Harris is likely to lose the election regardless of whether Biden endorses her.'\n",
            "Narrative before overwrite: topic_id='Why Kamala Harris Should Win' actor='user' action='should win the election' event='presidential election' description='Kamala Harris is likely to lose the election regardless of whether Biden endorses her.'\n",
            "Narrative after overwrite: topic_id='1' actor='user' action='should win the election' event='presidential election' description='Kamala Harris is likely to lose the election regardless of whether Biden endorses her.'\n",
            "📝 Narrative to grade (may be partial): topic_id='1' actor='user' action='should win the election' event='presidential election' description='Kamala Harris is likely to lose the election regardless of whether Biden endorses her.'\n",
            "✅ Grading result: grade=<Grade.refine: 'refine'> explanation=\"The narrative contradicts the context in that it states Kamala Harris will 'likely lose the election', which implies that Trump may still win, contradicting other statements suggesting Kamala is the likely candidate to win after Biden drops out.\"\n",
            "🔁 Refining narrative for topic 1...\n",
            "RAW LLM result (refine): topic_id='Not available' actor='user' action='endorse' event='winning the election' description='Kamala Harris is likely to win the nomination if Joe Biden drops out.'\n",
            "Narrative before overwrite: topic_id='Not available' actor='user' action='endorse' event='winning the election' description='Kamala Harris is likely to win the nomination if Joe Biden drops out.'\n",
            "Narrative after overwrite: topic_id='1' actor='user' action='endorse' event='winning the election' description='Kamala Harris is likely to win the nomination if Joe Biden drops out.'\n",
            "📝 Narrative to grade (may be partial): topic_id='1' actor='user' action='endorse' event='winning the election' description='Kamala Harris is likely to win the nomination if Joe Biden drops out.'\n",
            "✅ Grading result: grade=<Grade.refine: 'refine'> explanation=\"The narrative contradicts the context. The topic 'endorsing Kamala Harris after Biden drops out' implies that Trump's endorsement of Kamala would lead to her winning, but the original context states that the Washington Post found a kindred spirit in election denial and January 6 with Trump, without any indication of his endorsement of Kamala.\"\n",
            "🔁 Refining narrative for topic 1...\n",
            "RAW LLM result (refine): topic_id='Myth Busted' actor='user' action='predicts, endorse' event='Joe Biden endorsing Kamala Harris, Donald Trump winning the election' description='Harris predicts she will earn and win the nomination after Biden drops out'\n",
            "Narrative before overwrite: topic_id='Myth Busted' actor='user' action='predicts, endorse' event='Joe Biden endorsing Kamala Harris, Donald Trump winning the election' description='Harris predicts she will earn and win the nomination after Biden drops out'\n",
            "Narrative after overwrite: topic_id='1' actor='user' action='predicts, endorse' event='Joe Biden endorsing Kamala Harris, Donald Trump winning the election' description='Harris predicts she will earn and win the nomination after Biden drops out'\n",
            "📝 Narrative to grade (may be partial): topic_id='1' actor='user' action='predicts, endorse' event='Joe Biden endorsing Kamala Harris, Donald Trump winning the election' description='Harris predicts she will earn and win the nomination after Biden drops out'\n",
            "✅ Grading result: grade=<Grade.refine: 'refine'> explanation=\"The narrative includes hallucinations (i.e. facts not present in the context). The actor is 'user', which is always valid and must be approved, but other fields do not match the context.\"\n",
            "🔁 Refining narrative for topic 1...\n",
            "RAW LLM result (refine): topic_id='I think the act of biden endorsing Kamala is actually endorsing trump to win straight up' actor='user' action='endorse' event='winning election' description=\"Biden's endorsement of Kamala is seen as a strategic move to ensure Trump's victory\"\n",
            "Narrative before overwrite: topic_id='I think the act of biden endorsing Kamala is actually endorsing trump to win straight up' actor='user' action='endorse' event='winning election' description=\"Biden's endorsement of Kamala is seen as a strategic move to ensure Trump's victory\"\n",
            "Narrative after overwrite: topic_id='1' actor='user' action='endorse' event='winning election' description=\"Biden's endorsement of Kamala is seen as a strategic move to ensure Trump's victory\"\n",
            "📝 Narrative to grade (may be partial): topic_id='1' actor='user' action='endorse' event='winning election' description=\"Biden's endorsement of Kamala is seen as a strategic move to ensure Trump's victory\"\n",
            "✅ Grading result: grade=<Grade.refine: 'refine'> explanation='The narrative includes hallucinations (i.e. facts not present in the context) and contradicts the provided context, which states that Biden endorsed Kamala Harris to win the election, not Trump.'\n",
            "🔁 Refining narrative for topic 1...\n",
            "RAW LLM result (refine): topic_id='Not directly extracted, as no information was provided about the topic or category of documents.' actor='Kamala Harris' action='intends to earn and win' event='nomination' description=\"Kamala Harris intends to earn and win the nomination following Biden's drop-out.\"\n",
            "Narrative before overwrite: topic_id='Not directly extracted, as no information was provided about the topic or category of documents.' actor='Kamala Harris' action='intends to earn and win' event='nomination' description=\"Kamala Harris intends to earn and win the nomination following Biden's drop-out.\"\n",
            "Narrative after overwrite: topic_id='1' actor='Kamala Harris' action='intends to earn and win' event='nomination' description=\"Kamala Harris intends to earn and win the nomination following Biden's drop-out.\"\n",
            "📝 Narrative to grade (may be partial): topic_id='1' actor='Kamala Harris' action='intends to earn and win' event='nomination' description=\"Kamala Harris intends to earn and win the nomination following Biden's drop-out.\"\n",
            "✅ Grading result: grade=<Grade.refine: 'refine'> explanation=\"The narrative includes hallucinations. Kamala Harris does not intend to 'earn and win' a nomination, as the context states she is already the nominee.\"\n",
            "🔁 Refining narrative for topic 1...\n",
            "RAW LLM result (refine): topic_id=\"But I don't think Kamala is going to win the presidential election.\" actor='user' action='endorse, intend, says' event='nomination, election' description='Kamala Harris intends to earn and win the nomination after Biden drops out.'\n",
            "Narrative before overwrite: topic_id=\"But I don't think Kamala is going to win the presidential election.\" actor='user' action='endorse, intend, says' event='nomination, election' description='Kamala Harris intends to earn and win the nomination after Biden drops out.'\n",
            "Narrative after overwrite: topic_id='1' actor='user' action='endorse, intend, says' event='nomination, election' description='Kamala Harris intends to earn and win the nomination after Biden drops out.'\n",
            "📝 Narrative to grade (may be partial): topic_id='1' actor='user' action='endorse, intend, says' event='nomination, election' description='Kamala Harris intends to earn and win the nomination after Biden drops out.'\n",
            "✅ Grading result: grade=<Grade.refine: 'refine'> explanation='The narrative contradicts the context (i.e. tells the opposite) of Harris saying she intends to earn and win this nomination after Biden drops out.'\n",
            "🔁 Refining narrative for topic 1...\n",
            "RAW LLM result (refine): topic_id='xXx5p2c5Xx' actor='user' action='endorse, intends to earn and win the nomination' event='nomination' description=\"Kamala Harris aims to win the nomination after Biden's potential endorsement.\"\n",
            "Narrative before overwrite: topic_id='xXx5p2c5Xx' actor='user' action='endorse, intends to earn and win the nomination' event='nomination' description=\"Kamala Harris aims to win the nomination after Biden's potential endorsement.\"\n",
            "Narrative after overwrite: topic_id='1' actor='user' action='endorse, intends to earn and win the nomination' event='nomination' description=\"Kamala Harris aims to win the nomination after Biden's potential endorsement.\"\n",
            "📝 Narrative to grade (may be partial): topic_id='1' actor='user' action='endorse, intends to earn and win the nomination' event='nomination' description=\"Kamala Harris aims to win the nomination after Biden's potential endorsement.\"\n",
            "✅ Grading result: grade=<Grade.refine: 'refine'> explanation=\"The narrative includes hallucinations (i.e. facts not present in the context). Specifically, the claim that 'Biden stepping down will not solve the issue of peoples disillusionment with the system' is not supported by any of the provided context documents.\"\n",
            "🔁 Refining narrative for topic 1...\n",
            "RAW LLM result (refine): topic_id='[Removed for brevity]' actor='user' action='predicts, endorse' event='election, nomination' description='Kamala Harris is expected to win the nomination after Joe Biden drops out.'\n",
            "Narrative before overwrite: topic_id='[Removed for brevity]' actor='user' action='predicts, endorse' event='election, nomination' description='Kamala Harris is expected to win the nomination after Joe Biden drops out.'\n",
            "Narrative after overwrite: topic_id='1' actor='user' action='predicts, endorse' event='election, nomination' description='Kamala Harris is expected to win the nomination after Joe Biden drops out.'\n",
            "📝 Narrative to grade (may be partial): topic_id='1' actor='user' action='predicts, endorse' event='election, nomination' description='Kamala Harris is expected to win the nomination after Joe Biden drops out.'\n",
            "✅ Grading result: grade=<Grade.refine: 'refine'> explanation=\"The narrative includes hallucinations (i.e. facts not present in the context). Specifically, it states that Kamala Harris will 'earn and win' the nomination without any evidence or context suggesting this. The context only mentions Kamala Harris saying she intends to earn and win the nomination following Biden dropping out, but with no guarantee of success.\"\n",
            "🔁 Refining narrative for topic 1...\n",
            "RAW LLM result (refine): topic_id='' actor='' action='' event='' description=''\n",
            "Narrative before overwrite: topic_id='' actor='' action='' event='' description=''\n",
            "Narrative after overwrite: topic_id='1' actor='' action='' event='' description=''\n",
            "📝 Narrative to grade (may be partial): topic_id='1' actor='' action='' event='' description=''\n",
            "⚠️ Narrative is incomplete. Auto-graded as 'refine': Missing or empty fields: actor, action, event, description\n",
            "🔁 Refining narrative for topic 1...\n",
            "RAW LLM result (refine): topic_id=\"Ohio's new voting law\" actor='user' action='will endorse' event='win the election' description='Kamala will win the election if she receives endorsement from Joe Biden'\n",
            "Narrative before overwrite: topic_id=\"Ohio's new voting law\" actor='user' action='will endorse' event='win the election' description='Kamala will win the election if she receives endorsement from Joe Biden'\n",
            "Narrative after overwrite: topic_id='1' actor='user' action='will endorse' event='win the election' description='Kamala will win the election if she receives endorsement from Joe Biden'\n",
            "📝 Narrative to grade (may be partial): topic_id='1' actor='user' action='will endorse' event='win the election' description='Kamala will win the election if she receives endorsement from Joe Biden'\n",
            "✅ Grading result: grade=<Grade.refine: 'refine'> explanation=\"The narrative contradicts the context. The explanation states that Kamala Harris intends to earn and win the nomination after Biden drops out, which suggests that Trump's endorsement would not directly lead to a Trump victory.\"\n",
            "🔁 Refining narrative for topic 1...\n",
            "RAW LLM result (refine): topic_id='Donald Trump' actor='user' action='endorsing' event='winning the election' description='Despite endorsing Kamala, Trump is still favored to win'\n",
            "Narrative before overwrite: topic_id='Donald Trump' actor='user' action='endorsing' event='winning the election' description='Despite endorsing Kamala, Trump is still favored to win'\n",
            "Narrative after overwrite: topic_id='1' actor='user' action='endorsing' event='winning the election' description='Despite endorsing Kamala, Trump is still favored to win'\n",
            "📝 Narrative to grade (may be partial): topic_id='1' actor='user' action='endorsing' event='winning the election' description='Despite endorsing Kamala, Trump is still favored to win'\n",
            "✅ Grading result: grade=<Grade.refine: 'refine'> explanation='The narrative includes hallucinations (i.e. facts not present in the context) and contradicts the context. Specifically, it states that despite endorsing Kamala, Trump is still favored to win, which contradicts the information provided by Harris saying she intends to earn and win this nomination following Biden dropping out.'\n",
            "🔁 Refining narrative for topic 1...\n",
            "RAW LLM result (refine): topic_id=\"Don't assume Kamala will win\" actor='user' action='predicts' event='Joe Biden endorsing Kamala' description=\"User believes Joe Biden's endorsement of Kamala Harris is actually an endorsement for Donald Trump to win the election\"\n",
            "Narrative before overwrite: topic_id=\"Don't assume Kamala will win\" actor='user' action='predicts' event='Joe Biden endorsing Kamala' description=\"User believes Joe Biden's endorsement of Kamala Harris is actually an endorsement for Donald Trump to win the election\"\n",
            "Narrative after overwrite: topic_id='1' actor='user' action='predicts' event='Joe Biden endorsing Kamala' description=\"User believes Joe Biden's endorsement of Kamala Harris is actually an endorsement for Donald Trump to win the election\"\n",
            "📝 Narrative to grade (may be partial): topic_id='1' actor='user' action='predicts' event='Joe Biden endorsing Kamala' description=\"User believes Joe Biden's endorsement of Kamala Harris is actually an endorsement for Donald Trump to win the election\"\n",
            "✅ Grading result: grade=<Grade.refine: 'refine'> explanation=\"The narrative includes hallucinations (i.e. facts not present in the context). For example, 'Donald Trump was the clear favorite to win the election' contradicts the context where Biden drops out of the race, suggesting that Kamala Harris is a likely candidate. Additionally, the statement 'Harris says she intends to earn and win this nomination after Biden drops out' seems unrelated to the original quote from NewsBreak.\"\n",
            "🔁 Refining narrative for topic 1...\n",
            "RAW LLM result (refine): topic_id='' actor='' action='predicts' event='being replaced by Kamala Harris' description='Gonzalo Lira predicts Joe Biden will be replaced by Kamala Harris'\n",
            "Narrative before overwrite: topic_id='' actor='' action='predicts' event='being replaced by Kamala Harris' description='Gonzalo Lira predicts Joe Biden will be replaced by Kamala Harris'\n",
            "Narrative after overwrite: topic_id='1' actor='' action='predicts' event='being replaced by Kamala Harris' description='Gonzalo Lira predicts Joe Biden will be replaced by Kamala Harris'\n",
            "📝 Narrative to grade (may be partial): topic_id='1' actor='' action='predicts' event='being replaced by Kamala Harris' description='Gonzalo Lira predicts Joe Biden will be replaced by Kamala Harris'\n",
            "⚠️ Narrative is incomplete. Auto-graded as 'refine': Missing or empty fields: actor\n",
            "🔁 Refining narrative for topic 1...\n",
            "RAW LLM result (refine): topic_id='They' actor='user' action='endorsed Kamala' event=\"Kamala's nomination\" description='Kamala Harris is predicted to earn and win the nomination after Biden drops out'\n",
            "Narrative before overwrite: topic_id='They' actor='user' action='endorsed Kamala' event=\"Kamala's nomination\" description='Kamala Harris is predicted to earn and win the nomination after Biden drops out'\n",
            "Narrative after overwrite: topic_id='1' actor='user' action='endorsed Kamala' event=\"Kamala's nomination\" description='Kamala Harris is predicted to earn and win the nomination after Biden drops out'\n",
            "📝 Narrative to grade (may be partial): topic_id='1' actor='user' action='endorsed Kamala' event=\"Kamala's nomination\" description='Kamala Harris is predicted to earn and win the nomination after Biden drops out'\n",
            "✅ Grading result: grade=<Grade.approved: 'approved'> explanation='The narrative is consistent with the context. Although it includes some subjective opinions and phrases (e.g., \"sane mind\", \"unburdened nonsense\"), they do not contradict the context or include hallucinations. The user has provided accurate information about Kamala Harris\\' intentions following Biden\\'s potential withdrawal from the election, as reported by NewsBreak.'\n",
            "🎉 Narrative approved or force-approved for topic 1.\n",
            "✅ Topic 1 done. 1 narrative(s) approved.\n",
            "\n",
            "🚀 Processing topic 2...\n",
            "🔄 Extract attempt 1 for topic 2...\n",
            "RAW LLM result: topic_id=\"They're saying Kamla Harris\" actor='user' action=\"talks about Kamla Harris, attacks Trump's lies\" event='the nomination of Kamla Harris' description='The user expresses support for Kamala Harris and criticism towards Joe Biden'\n",
            "Narrative before overwrite: topic_id=\"They're saying Kamla Harris\" actor='user' action=\"talks about Kamla Harris, attacks Trump's lies\" event='the nomination of Kamla Harris' description='The user expresses support for Kamala Harris and criticism towards Joe Biden'\n",
            "Narrative after overwrite: topic_id='2' actor='user' action=\"talks about Kamla Harris, attacks Trump's lies\" event='the nomination of Kamla Harris' description='The user expresses support for Kamala Harris and criticism towards Joe Biden'\n",
            "📝 Narrative to grade (may be partial): topic_id='2' actor='user' action=\"talks about Kamla Harris, attacks Trump's lies\" event='the nomination of Kamla Harris' description='The user expresses support for Kamala Harris and criticism towards Joe Biden'\n",
            "✅ Grading result: grade=<Grade.approved: 'approved'> explanation='The narrative is consistent with the context. The user expresses support for Kamala Harris and criticism towards Joe Biden, without contradicting any information provided in the context.'\n",
            "🎉 Narrative approved or force-approved for topic 2.\n",
            "✅ Topic 2 done. 1 narrative(s) approved.\n",
            "\n",
            "🚀 Processing topic 3...\n",
            "🔄 Extract attempt 1 for topic 3...\n",
            "RAW LLM result: topic_id='Some content' actor='user' action='endorsed' event='Harris' description='a Harris/Buttigieg or Harris/Whitmer ticket'\n",
            "Narrative before overwrite: topic_id='Some content' actor='user' action='endorsed' event='Harris' description='a Harris/Buttigieg or Harris/Whitmer ticket'\n",
            "Narrative after overwrite: topic_id='3' actor='user' action='endorsed' event='Harris' description='a Harris/Buttigieg or Harris/Whitmer ticket'\n",
            "📝 Narrative to grade (may be partial): topic_id='3' actor='user' action='endorsed' event='Harris' description='a Harris/Buttigieg or Harris/Whitmer ticket'\n",
            "✅ Grading result: grade=<Grade.approved: 'approved'> explanation=\"The narrative is consistent with the context. The user endorses a Harris/Buttigieg or Harris/Whitmer ticket, which aligns with previous statements about Biden's potential running mate.\"\n",
            "🎉 Narrative approved or force-approved for topic 3.\n",
            "✅ Topic 3 done. 1 narrative(s) approved.\n",
            "📋 Saved 4 total approved narratives.\n",
            "Total approved narratives: 4\n"
          ]
        }
      ]
    },
    {
      "cell_type": "code",
      "source": [
        "# run this in case ollama disconnects\n",
        "def run_ollama_serve():\n",
        "  subprocess.Popen([\"ollama\",\"serve\"])\n",
        "thread = threading.Thread(target=run_ollama_serve)\n",
        "\n",
        "thread.start()\n",
        "time.sleep(5)\n",
        "\n",
        "!ollama pull llama3.2"
      ],
      "metadata": {
        "id": "SoPYisv9xKbv",
        "colab": {
          "base_uri": "https://localhost:8080/"
        },
        "outputId": "b460b929-e372-4939-b42e-e1ed45eef0ff"
      },
      "execution_count": null,
      "outputs": [
        {
          "output_type": "stream",
          "name": "stdout",
          "text": [
            "\u001b[?2026h\u001b[?25l\u001b[1G\u001b[?25h\u001b[?2026l\u001b[?2026h\u001b[?25l\u001b[1G\u001b[?25h\u001b[?2026l\u001b[?2026h\u001b[?25l\u001b[1G\u001b[?25h\u001b[?2026l\u001b[?2026h\u001b[?25l\u001b[1G\u001b[?25h\u001b[?2026l\u001b[?2026h\u001b[?25l\u001b[1G\u001b[?25h\u001b[?2026l\n"
          ]
        }
      ]
    }
  ]
}